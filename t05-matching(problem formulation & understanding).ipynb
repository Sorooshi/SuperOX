{
 "cells": [
  {
   "cell_type": "code",
   "execution_count": 44,
   "metadata": {},
   "outputs": [],
   "source": [
    "%reload_ext autoreload\n",
    "%matplotlib inline\n",
    "%autoreload 2\n",
    "import time\n",
    "import warnings\n",
    "import numpy as np\n",
    "import pandas as pd\n",
    "import datetime as dt\n",
    "import seaborn as sns\n",
    "import tensorflow  as tf\n",
    "from joblib import dump, load\n",
    "import matplotlib.pyplot as plt\n",
    "from matplotlib.backends.backend_pdf import PdfPages\n",
    "from sklearn.model_selection import train_test_split\n",
    "\n",
    "# from IPython.core.interactiveshell import InteractiveShell\n",
    "# InteractiveShell.ast_node_interactivity = \"all\""
   ]
  },
  {
   "cell_type": "code",
   "execution_count": 2,
   "metadata": {},
   "outputs": [],
   "source": [
    "warnings.filterwarnings('ignore')\n",
    "np.set_printoptions(suppress=True, precision=3, linewidth=120)"
   ]
  },
  {
   "cell_type": "code",
   "execution_count": 3,
   "metadata": {},
   "outputs": [],
   "source": [
    "def plot_loss(history, name):\n",
    "    _ = plt.figure(figsize=(13.5, 7.5))\n",
    "    plt.plot(history.history['loss'], label='Train Loss-' + name)\n",
    "    plt.plot(history.history['val_loss'], label='Test Loss' + name)\n",
    "    plt.ylabel(\"Error\")\n",
    "    plt.xlabel(\"Epochs\")\n",
    "    plt.legend()\n",
    "    plt.title(\"Train- test Erros for \" + name)\n",
    "    plt.show()\n",
    "    \n",
    "\n",
    "\n",
    "def plot_predictions(y_test, y_pred, name):\n",
    "    _ = plt.figure(figsize=(13.5, 7.5))\n",
    "    plt.scatter(y_test, y_pred)\n",
    "    plt.xlabel(\"True Values (\"+ name+\")\")\n",
    "    plt.ylabel(\"True Values (\"+ name+\")\")\n",
    "    plt.title(\"Scatter plot of target values vs predicted values\")\n",
    "    \n",
    "\n",
    "\n",
    "def plot_error_distribution(y_test, y_pred, name, n_bins):\n",
    "    error = y_pred - y_test\n",
    "    plt.hist(error, bins=n_bins)\n",
    "    plt.xlabel(\"Prediction Error (\" + name + \")\")\n",
    "    plt.ylabel('Count')\n",
    "    "
   ]
  },
  {
   "cell_type": "code",
   "execution_count": 4,
   "metadata": {},
   "outputs": [],
   "source": [
    "def mae(y_trues, y_preds):\n",
    "    return np.mean(np.abs(y_trues-y_preds))\n",
    "\n",
    "def rmse(y_trues, y_preds):\n",
    "    return np.sqrt(np.mean(np.power(y_trues-y_preds, 2)))\n",
    "\n",
    "def mrae(y_trues, y_preds):\n",
    "    return np.mean(np.abs(np.divide(y_trues -y_preds, y_trues)))"
   ]
  },
  {
   "cell_type": "code",
   "execution_count": 5,
   "metadata": {},
   "outputs": [
    {
     "name": "stdout",
     "output_type": "stream",
     "text": [
      "2021-02-15 15:56:14,239 - kedro.io.data_catalog - INFO - Loading data from `pld_complete` (ParquetDataSet)...\n",
      "2021-02-15 15:56:14,528 - numexpr.utils - INFO - NumExpr defaulting to 4 threads.\n"
     ]
    }
   ],
   "source": [
    "pld_complete_range = pd.read_csv(\"../../data/pld_complete_range.csv\", index_col=False)\n",
    "pld_complete = catalog.load('pld_complete').dropna().sort_values('pos', ascending=True)"
   ]
  },
  {
   "cell_type": "code",
   "execution_count": 6,
   "metadata": {},
   "outputs": [
    {
     "data": {
      "text/html": [
       "<div>\n",
       "<style scoped>\n",
       "    .dataframe tbody tr th:only-of-type {\n",
       "        vertical-align: middle;\n",
       "    }\n",
       "\n",
       "    .dataframe tbody tr th {\n",
       "        vertical-align: top;\n",
       "    }\n",
       "\n",
       "    .dataframe thead th {\n",
       "        text-align: right;\n",
       "    }\n",
       "</style>\n",
       "<table border=\"1\" class=\"dataframe\">\n",
       "  <thead>\n",
       "    <tr style=\"text-align: right;\">\n",
       "      <th></th>\n",
       "      <th>median_Voltage_HSR_V_1025</th>\n",
       "      <th>median_Voltage_HSR_V_1027</th>\n",
       "      <th>median_Voltage_HSR_V_1030</th>\n",
       "      <th>median_Voltage_HSL_V_1025</th>\n",
       "      <th>median_Voltage_HSL_V_1027</th>\n",
       "      <th>median_Voltage_HSL_V_1030</th>\n",
       "      <th>median_Voltage_HF_V_1025</th>\n",
       "      <th>median_Voltage_HF_V_1027</th>\n",
       "      <th>median_Voltage_HF_V_1030</th>\n",
       "      <th>median_Voltage_HC_V_1025</th>\n",
       "      <th>...</th>\n",
       "      <th>std_Sigma_1030</th>\n",
       "      <th>pos</th>\n",
       "      <th>Speed</th>\n",
       "      <th>X FWHM</th>\n",
       "      <th>Y FWHM</th>\n",
       "      <th>R FWHM</th>\n",
       "      <th>Coolness</th>\n",
       "      <th>Coolness_neg</th>\n",
       "      <th>Ic</th>\n",
       "      <th>Ic_norm</th>\n",
       "    </tr>\n",
       "  </thead>\n",
       "  <tbody>\n",
       "    <tr>\n",
       "      <th>0</th>\n",
       "      <td>0.129479</td>\n",
       "      <td>0.177414</td>\n",
       "      <td>0.005142</td>\n",
       "      <td>0.69562</td>\n",
       "      <td>-0.256257</td>\n",
       "      <td>-0.015406</td>\n",
       "      <td>-0.009215</td>\n",
       "      <td>-0.072807</td>\n",
       "      <td>-0.021102</td>\n",
       "      <td>0.057123</td>\n",
       "      <td>...</td>\n",
       "      <td>-0.390667</td>\n",
       "      <td>-0.501695</td>\n",
       "      <td>0.009841</td>\n",
       "      <td>0.039589</td>\n",
       "      <td>0.067470</td>\n",
       "      <td>0.015697</td>\n",
       "      <td>0.053006</td>\n",
       "      <td>-0.086369</td>\n",
       "      <td>496.2</td>\n",
       "      <td>1.767913</td>\n",
       "    </tr>\n",
       "    <tr>\n",
       "      <th>1</th>\n",
       "      <td>0.110059</td>\n",
       "      <td>0.340245</td>\n",
       "      <td>0.005142</td>\n",
       "      <td>0.69562</td>\n",
       "      <td>-0.321465</td>\n",
       "      <td>-0.015406</td>\n",
       "      <td>-0.009215</td>\n",
       "      <td>-0.173901</td>\n",
       "      <td>-0.021102</td>\n",
       "      <td>0.050178</td>\n",
       "      <td>...</td>\n",
       "      <td>-0.390667</td>\n",
       "      <td>-0.501652</td>\n",
       "      <td>-0.005266</td>\n",
       "      <td>0.039589</td>\n",
       "      <td>0.067470</td>\n",
       "      <td>0.015697</td>\n",
       "      <td>0.053006</td>\n",
       "      <td>-0.086369</td>\n",
       "      <td>494.7</td>\n",
       "      <td>1.762568</td>\n",
       "    </tr>\n",
       "    <tr>\n",
       "      <th>2</th>\n",
       "      <td>0.119769</td>\n",
       "      <td>0.340245</td>\n",
       "      <td>0.005142</td>\n",
       "      <td>0.69562</td>\n",
       "      <td>-0.321465</td>\n",
       "      <td>-0.015406</td>\n",
       "      <td>-0.007363</td>\n",
       "      <td>-0.173901</td>\n",
       "      <td>-0.021102</td>\n",
       "      <td>0.057123</td>\n",
       "      <td>...</td>\n",
       "      <td>-0.390667</td>\n",
       "      <td>-0.501646</td>\n",
       "      <td>-0.007197</td>\n",
       "      <td>0.039589</td>\n",
       "      <td>0.067470</td>\n",
       "      <td>0.015697</td>\n",
       "      <td>0.053006</td>\n",
       "      <td>-0.086369</td>\n",
       "      <td>494.2</td>\n",
       "      <td>1.760787</td>\n",
       "    </tr>\n",
       "    <tr>\n",
       "      <th>3</th>\n",
       "      <td>0.110059</td>\n",
       "      <td>0.348139</td>\n",
       "      <td>0.005142</td>\n",
       "      <td>0.69562</td>\n",
       "      <td>-0.322354</td>\n",
       "      <td>-0.015406</td>\n",
       "      <td>-0.009215</td>\n",
       "      <td>-0.218270</td>\n",
       "      <td>-0.021102</td>\n",
       "      <td>0.057123</td>\n",
       "      <td>...</td>\n",
       "      <td>-0.390667</td>\n",
       "      <td>-0.501635</td>\n",
       "      <td>-0.010946</td>\n",
       "      <td>0.039589</td>\n",
       "      <td>0.067470</td>\n",
       "      <td>0.015697</td>\n",
       "      <td>0.053006</td>\n",
       "      <td>-0.086369</td>\n",
       "      <td>495.5</td>\n",
       "      <td>1.765419</td>\n",
       "    </tr>\n",
       "    <tr>\n",
       "      <th>4</th>\n",
       "      <td>0.110059</td>\n",
       "      <td>0.264593</td>\n",
       "      <td>0.005142</td>\n",
       "      <td>0.69562</td>\n",
       "      <td>-0.305820</td>\n",
       "      <td>-0.015406</td>\n",
       "      <td>-0.009215</td>\n",
       "      <td>-0.129533</td>\n",
       "      <td>-0.021102</td>\n",
       "      <td>0.057123</td>\n",
       "      <td>...</td>\n",
       "      <td>-0.390667</td>\n",
       "      <td>-0.501619</td>\n",
       "      <td>-0.017147</td>\n",
       "      <td>0.042682</td>\n",
       "      <td>0.069442</td>\n",
       "      <td>0.017956</td>\n",
       "      <td>0.051965</td>\n",
       "      <td>-0.084836</td>\n",
       "      <td>497.9</td>\n",
       "      <td>1.773168</td>\n",
       "    </tr>\n",
       "  </tbody>\n",
       "</table>\n",
       "<p>5 rows × 379 columns</p>\n",
       "</div>"
      ],
      "text/plain": [
       "   median_Voltage_HSR_V_1025  median_Voltage_HSR_V_1027  \\\n",
       "0                   0.129479                   0.177414   \n",
       "1                   0.110059                   0.340245   \n",
       "2                   0.119769                   0.340245   \n",
       "3                   0.110059                   0.348139   \n",
       "4                   0.110059                   0.264593   \n",
       "\n",
       "   median_Voltage_HSR_V_1030  median_Voltage_HSL_V_1025  \\\n",
       "0                   0.005142                    0.69562   \n",
       "1                   0.005142                    0.69562   \n",
       "2                   0.005142                    0.69562   \n",
       "3                   0.005142                    0.69562   \n",
       "4                   0.005142                    0.69562   \n",
       "\n",
       "   median_Voltage_HSL_V_1027  median_Voltage_HSL_V_1030  \\\n",
       "0                  -0.256257                  -0.015406   \n",
       "1                  -0.321465                  -0.015406   \n",
       "2                  -0.321465                  -0.015406   \n",
       "3                  -0.322354                  -0.015406   \n",
       "4                  -0.305820                  -0.015406   \n",
       "\n",
       "   median_Voltage_HF_V_1025  median_Voltage_HF_V_1027  \\\n",
       "0                 -0.009215                 -0.072807   \n",
       "1                 -0.009215                 -0.173901   \n",
       "2                 -0.007363                 -0.173901   \n",
       "3                 -0.009215                 -0.218270   \n",
       "4                 -0.009215                 -0.129533   \n",
       "\n",
       "   median_Voltage_HF_V_1030  median_Voltage_HC_V_1025  ...  std_Sigma_1030  \\\n",
       "0                 -0.021102                  0.057123  ...       -0.390667   \n",
       "1                 -0.021102                  0.050178  ...       -0.390667   \n",
       "2                 -0.021102                  0.057123  ...       -0.390667   \n",
       "3                 -0.021102                  0.057123  ...       -0.390667   \n",
       "4                 -0.021102                  0.057123  ...       -0.390667   \n",
       "\n",
       "        pos     Speed    X FWHM    Y FWHM    R FWHM  Coolness  Coolness_neg  \\\n",
       "0 -0.501695  0.009841  0.039589  0.067470  0.015697  0.053006     -0.086369   \n",
       "1 -0.501652 -0.005266  0.039589  0.067470  0.015697  0.053006     -0.086369   \n",
       "2 -0.501646 -0.007197  0.039589  0.067470  0.015697  0.053006     -0.086369   \n",
       "3 -0.501635 -0.010946  0.039589  0.067470  0.015697  0.053006     -0.086369   \n",
       "4 -0.501619 -0.017147  0.042682  0.069442  0.017956  0.051965     -0.084836   \n",
       "\n",
       "      Ic   Ic_norm  \n",
       "0  496.2  1.767913  \n",
       "1  494.7  1.762568  \n",
       "2  494.2  1.760787  \n",
       "3  495.5  1.765419  \n",
       "4  497.9  1.773168  \n",
       "\n",
       "[5 rows x 379 columns]"
      ]
     },
     "execution_count": 6,
     "metadata": {},
     "output_type": "execute_result"
    }
   ],
   "source": [
    "pld_complete_range.head()"
   ]
  },
  {
   "cell_type": "code",
   "execution_count": 7,
   "metadata": {},
   "outputs": [
    {
     "data": {
      "text/plain": [
       "((18561, 2), (18561,), (18561,))"
      ]
     },
     "execution_count": 7,
     "metadata": {},
     "output_type": "execute_result"
    }
   ],
   "source": [
    "x_r = pld_complete_range.loc[:, pld_complete_range.columns.isin(['Ic', 'Coolness'])]  # .to_numpy()\n",
    "y = pld_complete_range['pos']  # .to_numpy()\n",
    "\n",
    "pos = pld_complete_range['pos']  # .to_numpy()\n",
    "ic_norm = pld_complete_range['Ic_norm']\n",
    "ic = pld_complete_range['Ic']\n",
    "\n",
    "coolness = pld_complete_range['Coolness']\n",
    "x_r.shape, y.shape, pos.shape"
   ]
  },
  {
   "cell_type": "code",
   "execution_count": 8,
   "metadata": {},
   "outputs": [
    {
     "data": {
      "text/plain": [
       "((11136, 2), (3713, 2), (3712, 2), (11136,), (3713,), (3712,))"
      ]
     },
     "execution_count": 8,
     "metadata": {},
     "output_type": "execute_result"
    }
   ],
   "source": [
    "x_r_train, x_r_test, y_train, y_test = train_test_split(x_r, y,\n",
    "                                                        test_size=0.40,\n",
    "                                                        random_state=43,)\n",
    "\n",
    "x_r_val, x_r_test, y_val, y_test = train_test_split(x_r_test, y_test,\n",
    "                                                        test_size=0.5,\n",
    "                                                        random_state=43,)\n",
    "\n",
    "\n",
    "x_r_train.shape, x_r_test.shape, x_r_val.shape, y_train.shape, y_test.shape, y_val.shape"
   ]
  },
  {
   "cell_type": "code",
   "execution_count": 9,
   "metadata": {},
   "outputs": [
    {
     "data": {
      "text/plain": [
       "({True}, {True})"
      ]
     },
     "execution_count": 9,
     "metadata": {},
     "output_type": "execute_result"
    }
   ],
   "source": [
    "set(x_r.iloc[:, 1] == ic), set(x_r.iloc[:, 0] == coolness)"
   ]
  },
  {
   "cell_type": "code",
   "execution_count": 10,
   "metadata": {},
   "outputs": [
    {
     "data": {
      "text/plain": [
       "({True}, {True})"
      ]
     },
     "execution_count": 10,
     "metadata": {},
     "output_type": "execute_result"
    }
   ],
   "source": [
    "set(x_r.loc[:, 'Ic'] == ic), set(x_r.loc[:, 'Coolness'] == coolness)"
   ]
  },
  {
   "cell_type": "code",
   "execution_count": 11,
   "metadata": {},
   "outputs": [
    {
     "data": {
      "text/plain": [
       "((13920, 2), (4641, 2), (13920,), (4641,))"
      ]
     },
     "execution_count": 11,
     "metadata": {},
     "output_type": "execute_result"
    }
   ],
   "source": [
    "x_r_train, x_r_test, y_train, y_test = train_test_split(x_r, y,\n",
    "                                                        test_size=0.25,\n",
    "                                                        random_state=43,)\n",
    "\n",
    "x_r_train.shape, x_r_test.shape, y_train.shape, y_test.shape"
   ]
  },
  {
   "cell_type": "markdown",
   "metadata": {},
   "source": [
    "# The Purpose of this study : \n",
    "\n",
    "Let us start with the notation:\n",
    "\n",
    "**Notation:**\n",
    "\n",
    "Let $D = \\{f^{1}_{j}, f^{2}_{j}, ..., p_{j}, c_{j}, i_{j}, f^{M}_{j} \\}_{j=1}^{N}$ be our data set. \n",
    "Where $N$ represents the number of observations and $M$ represent the number of features (the superscripts represent  the feature indices).\n",
    "Among all of the features, we are going to focus on three specific features, that is, position $p_j$, coolness $c_j$, critical current $i_j$. (This is why we represent them with different letters than f).\n",
    "\n",
    "The goal is to match the \"coolnesses\", the \"positions\" and the \"critical currents\" such that for a given $p_j:$ $\\frac{c_j}{i_j} \\approx constant$\n",
    "\n",
    "\n",
    "Based on the two following assumptions there would be two possibilities for matching :\n",
    "\n",
    "1. correlated positions assumption: in this situation we assume that in the current version of data set, there is a correlation between these three features (pos, i_c, cool) --which is to be discovered.\n",
    "\n",
    "    Concretely, for any $ j$ there exists a $x_j$ such that $p_j \\times x_j \\approx \\frac{i_j}{c_j} = r_j$. \n",
    "    Thus, the $x_j$'s can be explained as parameters of a function as follows.\n",
    "   In other words, there should be a function $F_\\phi(i_j, c_j) \\approx p_j$ where $\\phi$ represent the model parameters to be estimated: such that $x_j \\sim \\phi$.\n",
    "\n",
    "    Clearly, the aforementioned case can be treated as a supervised learning problem s.t the position would be the target value and the two remaining items would be the training features.\n",
    "\n",
    "2. uncorrelated positions assumption: In this situation, we assume that in the current version of data set, there is no correlation between the position's values ($p_j$) and the values of coolness ($c_j$) and critical current ($i_j$).\n",
    "\n",
    "    Thus the task under this assumption can be solved by applying a greedy search algorithm: to find $p_j$ minimizing $r_{jk}$ as follows. \n",
    "    \n",
    "    -specify a condition, say the ratio between coolness and critical should be minimized.\n",
    "    \n",
    "        - Here we define this condition to be the $r_{jk}$ to be minimized.\n",
    "        - A more complicated condition can be also defined -- though I think some knowledge from the process is needed in this regard. \n",
    "        \n",
    "    \\begin{equation}\n",
    "    \\underset{k=1, ..., N}{\\operatorname{argmin}} r_{jk}=\\frac{i_j}{c_{k}}  \\ \\ \\  j=1, ..., N\n",
    "    \\label{search_k}\n",
    "    \\end{equation}\n",
    "\n",
    "    That is, any observation $j$ we fix its critical current and its position and then we will find that $c_k$ which the value $r_{jk}$ is minimized(maximized). Ties should be broken randomly (all taken into account at the same time). \n",
    "    \n",
    "    With this setting, we match positions, critical currents and the coolnesses w.r.t to a pre-specified condition.\n"
   ]
  },
  {
   "cell_type": "markdown",
   "metadata": {},
   "source": [
    "**Andrey**\n",
    "\n",
    "Will reply here, since I can write latex\n",
    "\n",
    "Very much like the second option, as I understand it.\n",
    "\n",
    "\n",
    "With a bit different description:\n",
    "\n",
    "In ideal alignment, there is a dependence $I = f(C) + \\varepsilon$\n",
    "\n",
    "When we have distorted alignment, $I\\{p_i^I\\}$ and $C\\{p_j^C\\}$ are values of I and C \n",
    "known at positions $\\{p_i^I\\}$ and $\\{p_j^C\\}$\n",
    "\n",
    "The task is to find a transformation $\\{p_j^C\\} \\rightarrow^T \\{p_j^*\\}$ such, that\n",
    "\n",
    "$$\\sum_i |\\frac{I\\{p_i^I\\}}{f(C^*\\{p_i^I\\})}| \\rightarrow min ,$$\n",
    "    \n",
    "where $C^*\\{p_i^I\\}$ are the interpolations of $C\\{p_j^*\\}$ (values of $C$ are same, but only $p$'s are transformed) at points $\\{p_i^I\\}$\n",
    "\n",
    "\n",
    "- f: Ic = A*(100-coolness) + B\n",
    "\n",
    "A: coeff. depend on $p_{i}$\n"
   ]
  },
  {
   "cell_type": "code",
   "execution_count": 12,
   "metadata": {},
   "outputs": [
    {
     "data": {
      "image/png": "[encoded data removed]",
      "text/plain": [
       "<Figure size 1080x360 with 2 Axes>"
      ]
     },
     "metadata": {
      "needs_background": "light"
     },
     "output_type": "display_data"
    }
   ],
   "source": [
    "fig = plt.figure(figsize=(15, 5))\n",
    "ax = fig.add_subplot(1, 2, 1)\n",
    "ax.plot(pos, 'magenta', label='pos')\n",
    "# ax.plot(coolness, 'blue', label='coolness')\n",
    "ax.plot(ic, 'green', label='ic')\n",
    "ax.set_xlabel('index of observation')\n",
    "ax.set_ylabel('values')\n",
    "ax.set_title('Relation btw pos and ic')\n",
    "ax.legend()\n",
    "\n",
    "ax = fig.add_subplot(1, 2, 2)\n",
    "ax.plot(pos, 'magenta', label='pos')\n",
    "ax.plot(coolness, 'blue', label='coolness')\n",
    "# ax.plot(ic_norm, 'green', label='ic_norm')\n",
    "ax.set_xlabel('index of observation')\n",
    "ax.set_ylabel('values')\n",
    "ax.set_title('Relation btw pos, coolness')\n",
    "ax.legend()\n",
    "\n",
    "plt.show()"
   ]
  },
  {
   "cell_type": "code",
   "execution_count": 13,
   "metadata": {},
   "outputs": [],
   "source": [
    "class SetsAligner(tf.keras.Model):\n",
    "    \n",
    "    def __init__(self, n_units, n_features, name='sets_aligner', **kwargs):\n",
    "        super(SetsAligner, self).__init__(name=name, **kwargs)\n",
    "        self.n_units = n_units\n",
    "        self.n_features = n_features \n",
    "        self.dense_1 = tf.keras.layers.Dense(units=self.n_units, activation='relu', \n",
    "                                            input_shape=(self.n_features,))\n",
    "        self.dense_2 = tf.keras.layers.Dense(units=self.n_units, activation='relu')\n",
    "        self.predictions = tf.keras.layers.Dense(units=1, activation='linear')\n",
    "        \n",
    "    def call(self, inputs):\n",
    "        x = self.dense_1(inputs)\n",
    "        x = self.dense_2(x)\n",
    "        predictions = self.predictions(x)\n",
    "        return predictions\n",
    "\n"
   ]
  },
  {
   "cell_type": "code",
   "execution_count": 20,
   "metadata": {},
   "outputs": [],
   "source": [
    "n_units = 20\n",
    "\n",
    "sets_aligner_model = SetsAligner(n_units=n_units, n_features=x_r.shape[1])\n"
   ]
  },
  {
   "cell_type": "code",
   "execution_count": 31,
   "metadata": {},
   "outputs": [],
   "source": [
    "n_epochs = 5\n",
    "learning_rate = 0.001\n",
    "batch_size=256\n",
    "\n",
    "sets_aligner_model.compile(optimizer=tf.keras.optimizers.Adam(learning_rate=learning_rate), \n",
    "                           loss=tf.keras.losses.MeanSquaredError())"
   ]
  },
  {
   "cell_type": "code",
   "execution_count": 32,
   "metadata": {},
   "outputs": [
    {
     "name": "stdout",
     "output_type": "stream",
     "text": [
      "Epoch 1/5\n",
      "55/55 [==============================] - 0s 3ms/step - loss: 2.0518 - val_loss: 0.1414\n",
      "Epoch 2/5\n",
      "55/55 [==============================] - 0s 2ms/step - loss: 0.0875 - val_loss: 0.0813\n",
      "Epoch 3/5\n",
      "55/55 [==============================] - 0s 2ms/step - loss: 0.0828 - val_loss: 0.0786\n",
      "Epoch 4/5\n",
      "55/55 [==============================] - 0s 2ms/step - loss: 0.0832 - val_loss: 0.0790\n",
      "Epoch 5/5\n",
      "55/55 [==============================] - 0s 2ms/step - loss: 0.0824 - val_loss: 0.0796\n",
      "CPU times: user 1.23 s, sys: 71.7 ms, total: 1.3 s\n",
      "Wall time: 1.08 s\n"
     ]
    }
   ],
   "source": [
    "%%time\n",
    "\n",
    "history = sets_aligner_model.fit(x=x_r_train, y=y_train,\n",
    "                                validation_data=(x_r_val, y_val), \n",
    "                                epochs=n_epochs,\n",
    "                                batch_size=batch_size)"
   ]
  },
  {
   "cell_type": "code",
   "execution_count": 33,
   "metadata": {},
   "outputs": [
    {
     "name": "stdout",
     "output_type": "stream",
     "text": [
      "Model: \"sets_aligner\"\n",
      "_________________________________________________________________\n",
      "Layer (type)                 Output Shape              Param #   \n",
      "=================================================================\n",
      "dense_3 (Dense)              multiple                  60        \n",
      "_________________________________________________________________\n",
      "dense_4 (Dense)              multiple                  420       \n",
      "_________________________________________________________________\n",
      "dense_5 (Dense)              multiple                  21        \n",
      "=================================================================\n",
      "Total params: 501\n",
      "Trainable params: 501\n",
      "Non-trainable params: 0\n",
      "_________________________________________________________________\n"
     ]
    }
   ],
   "source": [
    "sets_aligner_model.summary()"
   ]
  },
  {
   "cell_type": "code",
   "execution_count": 34,
   "metadata": {},
   "outputs": [
    {
     "data": {
      "image/png": "[encoded data removed]",
      "text/plain": [
       "<Figure size 972x540 with 1 Axes>"
      ]
     },
     "metadata": {
      "needs_background": "light"
     },
     "output_type": "display_data"
    }
   ],
   "source": [
    "plot_loss(history=history, name='Ic')"
   ]
  },
  {
   "cell_type": "code",
   "execution_count": 42,
   "metadata": {},
   "outputs": [
    {
     "data": {
      "text/plain": [
       "((4641,), (4641,))"
      ]
     },
     "execution_count": 42,
     "metadata": {},
     "output_type": "execute_result"
    }
   ],
   "source": [
    "y_hat[:, 0].shape, y_test.shape"
   ]
  },
  {
   "cell_type": "code",
   "execution_count": 43,
   "metadata": {},
   "outputs": [
    {
     "name": "stdout",
     "output_type": "stream",
     "text": [
      "DNN-Regression Performance for Ic: MAE: 0.243 RMSE: 0.283 MRAE: 1.515\n"
     ]
    }
   ],
   "source": [
    "y_hat = sets_aligner_model.predict(x_r_test)[:, 0]\n",
    "\n",
    "\n",
    "mae_ic = mae(y_trues=y_test, y_preds=y_hat)\n",
    "rmse_ic = rmse(y_trues=y_test, y_preds=y_hat)\n",
    "mrae_ic = mrae(y_trues=y_test, y_preds=y_hat)\n",
    "\n",
    "print(\"DNN-Regression Performance for Ic:\", \n",
    "     \"MAE: %.3f\" % mae_ic, \n",
    "      \"RMSE: %.3f\" % rmse_ic, \n",
    "      \"MRAE: %.3f\" % mrae_ic,)"
   ]
  },
  {
   "cell_type": "code",
   "execution_count": null,
   "metadata": {},
   "outputs": [],
   "source": []
  },
  {
   "cell_type": "code",
   "execution_count": null,
   "metadata": {},
   "outputs": [],
   "source": []
  },
  {
   "cell_type": "code",
   "execution_count": null,
   "metadata": {},
   "outputs": [],
   "source": []
  },
  {
   "cell_type": "code",
   "execution_count": null,
   "metadata": {},
   "outputs": [],
   "source": []
  },
  {
   "cell_type": "code",
   "execution_count": null,
   "metadata": {},
   "outputs": [],
   "source": []
  },
  {
   "cell_type": "code",
   "execution_count": null,
   "metadata": {},
   "outputs": [],
   "source": []
  },
  {
   "cell_type": "code",
   "execution_count": null,
   "metadata": {},
   "outputs": [],
   "source": []
  },
  {
   "cell_type": "code",
   "execution_count": null,
   "metadata": {},
   "outputs": [],
   "source": []
  }
 ],
 "metadata": {
  "kernelspec": {
   "display_name": "ko_vtspml",
   "language": "python",
   "name": "python3"
  },
  "language_info": {
   "codemirror_mode": {
    "name": "ipython",
    "version": 3
   },
   "file_extension": ".py",
   "mimetype": "text/x-python",
   "name": "python",
   "nbconvert_exporter": "python",
   "pygments_lexer": "ipython3",
   "version": "3.8.6"
  }
 },
 "nbformat": 4,
 "nbformat_minor": 2
}
